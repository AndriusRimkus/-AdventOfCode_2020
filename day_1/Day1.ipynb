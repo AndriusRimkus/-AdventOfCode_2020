{
 "cells": [
  {
   "cell_type": "code",
   "execution_count": 52,
   "metadata": {},
   "outputs": [],
   "source": [
    "inputFile = open(\"input.txt\")\n",
    "input = [int(line.strip()) for line in inputFile]\n",
    "inputFile.close()"
   ]
  },
  {
   "cell_type": "code",
   "execution_count": 112,
   "metadata": {},
   "outputs": [],
   "source": [
    "def get_parts(input, sum):\n",
    "    for expense in input:\n",
    "        if expense >= sum:\n",
    "            continue\n",
    "        \n",
    "        if sum - expense in input:\n",
    "            return [expense, sum - expense]"
   ]
  },
  {
   "cell_type": "code",
   "execution_count": 117,
   "metadata": {},
   "outputs": [
    {
     "name": "stdout",
     "output_type": "stream",
     "text": [
      "468051\n",
      "272611658\n"
     ]
    }
   ],
   "source": [
    "# Part one\n",
    "print(get_parts(input, 2020)[0] * get_parts(input, 2020)[1])\n",
    "\n",
    "# Part two\n",
    "for expense in input:\n",
    "    parts = get_parts(input, 2020 - expense)\n",
    "    if parts:\n",
    "        print(expense * parts[0] * parts[1])\n",
    "        break"
   ]
  }
 ],
 "metadata": {
  "kernelspec": {
   "display_name": "Python 3",
   "language": "python",
   "name": "python3"
  },
  "language_info": {
   "codemirror_mode": {
    "name": "ipython",
    "version": 3
   },
   "file_extension": ".py",
   "mimetype": "text/x-python",
   "name": "python",
   "nbconvert_exporter": "python",
   "pygments_lexer": "ipython3",
   "version": "3.7.6"
  }
 },
 "nbformat": 4,
 "nbformat_minor": 4
}
