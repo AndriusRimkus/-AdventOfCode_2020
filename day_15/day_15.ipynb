{
 "cells": [
  {
   "cell_type": "code",
   "execution_count": 156,
   "metadata": {},
   "outputs": [
    {
     "name": "stdout",
     "output_type": "stream",
     "text": [
      "6823\n",
      "12.779130500000065 seconds\n"
     ]
    }
   ],
   "source": [
    "start_time = time.perf_counter()\n",
    "\n",
    "input_file = open(\"input.txt\")\n",
    "input = input_file.read().strip().split(',')\n",
    "input = [int(i) for i in input]\n",
    "input_file.close()\n",
    "\n",
    "last_positions = [None] * 30000000\n",
    "\n",
    "for index, item in enumerate(input[:-1]):\n",
    "    last_positions[item] = index + 1\n",
    "\n",
    "el_to_insert = input[-1]\n",
    "\n",
    "count = len(input)\n",
    "\n",
    "while (count < 30000000):\n",
    "    last_occurance = last_positions[el_to_insert]\n",
    "    \n",
    "    last_positions[el_to_insert] = count\n",
    "    \n",
    "    if last_occurance is None:\n",
    "        el_to_insert = 0\n",
    "    else:\n",
    "        el_to_insert = count - last_occurance\n",
    "    \n",
    "    count += 1\n",
    "\n",
    "print(el_to_insert)\n",
    "\n",
    "end_time = time.perf_counter()\n",
    "print(end_time - start_time, \"seconds\")"
   ]
  }
 ],
 "metadata": {
  "kernelspec": {
   "display_name": "Python 3",
   "language": "python",
   "name": "python3"
  },
  "language_info": {
   "codemirror_mode": {
    "name": "ipython",
    "version": 3
   },
   "file_extension": ".py",
   "mimetype": "text/x-python",
   "name": "python",
   "nbconvert_exporter": "python",
   "pygments_lexer": "ipython3",
   "version": "3.7.6"
  }
 },
 "nbformat": 4,
 "nbformat_minor": 4
}
