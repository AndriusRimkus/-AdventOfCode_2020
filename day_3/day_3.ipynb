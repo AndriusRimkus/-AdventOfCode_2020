{
 "cells": [
  {
   "cell_type": "code",
   "execution_count": 1,
   "metadata": {},
   "outputs": [],
   "source": [
    "import numpy as np"
   ]
  },
  {
   "cell_type": "code",
   "execution_count": 2,
   "metadata": {},
   "outputs": [],
   "source": [
    "inputFile = open(\"input.txt\")\n",
    "input = [list(line.strip()) for line in inputFile]\n",
    "inputFile.close()"
   ]
  },
  {
   "cell_type": "code",
   "execution_count": 51,
   "metadata": {},
   "outputs": [],
   "source": [
    "def get_hit_count(right_amount, down_amount):\n",
    "    hitCount = 0\n",
    "    currentPos = (0, 0)\n",
    "\n",
    "    while currentPos[1] < len(input):\n",
    "        if currentPos[0] >= len(input[0]):\n",
    "            currentPos = (currentPos[0] - len(input[0]), currentPos[1])\n",
    "            continue;\n",
    "\n",
    "        if input[currentPos[1]][currentPos[0]] == '#':\n",
    "            hitCount += 1\n",
    "\n",
    "        currentPos = (currentPos[0] + right_amount, currentPos[1] + down_amount)\n",
    "\n",
    "    return hitCount"
   ]
  },
  {
   "cell_type": "code",
   "execution_count": 52,
   "metadata": {},
   "outputs": [
    {
     "name": "stdout",
     "output_type": "stream",
     "text": [
      "282\n",
      "958815792\n"
     ]
    }
   ],
   "source": [
    "# part one\n",
    "print(get_hit_count(3, 1))\n",
    "\n",
    "# part two\n",
    "print(\n",
    "    get_hit_count(1, 1) *\n",
    "    get_hit_count(3, 1) *\n",
    "    get_hit_count(5, 1) *\n",
    "    get_hit_count(7, 1) *\n",
    "    get_hit_count(1, 2)\n",
    ")"
   ]
  }
 ],
 "metadata": {
  "kernelspec": {
   "display_name": "Python 3",
   "language": "python",
   "name": "python3"
  },
  "language_info": {
   "codemirror_mode": {
    "name": "ipython",
    "version": 3
   },
   "file_extension": ".py",
   "mimetype": "text/x-python",
   "name": "python",
   "nbconvert_exporter": "python",
   "pygments_lexer": "ipython3",
   "version": "3.7.6"
  }
 },
 "nbformat": 4,
 "nbformat_minor": 4
}
