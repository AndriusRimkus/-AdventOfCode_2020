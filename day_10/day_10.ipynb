{
 "cells": [
  {
   "cell_type": "code",
   "execution_count": 30,
   "metadata": {},
   "outputs": [],
   "source": [
    "import functools"
   ]
  },
  {
   "cell_type": "code",
   "execution_count": 64,
   "metadata": {},
   "outputs": [
    {
     "name": "stdout",
     "output_type": "stream",
     "text": [
      "2644613988352\n"
     ]
    }
   ],
   "source": [
    "input_file = open(\"input.txt\")\n",
    "input = input_file.read().strip().split('\\n')\n",
    "input = list(map(int, input))\n",
    "input_file.close()\n",
    "\n",
    "input.append(0)\n",
    "input.append(max(input) + 3)\n",
    "input.sort()\n",
    "\n",
    "#part1\n",
    "one_diff_count = 0\n",
    "three_diff_count = 0\n",
    "\n",
    "for i in range(0, len(input)-1):\n",
    "    if input[i] + 1 == input[i+1]:\n",
    "        one_diff_count += 1\n",
    "    \n",
    "    if input[i] + 3 == input[i+1]:\n",
    "        three_diff_count += 1\n",
    "\n",
    "# print(one_diff_count * three_diff_count)\n",
    "\n",
    "#part2\n",
    "\n",
    "arc_data = {}\n",
    "\n",
    "for i in range(len(input)-1, 0, -1):\n",
    "    arc_data[input[i]] = []\n",
    "    \n",
    "    for distance in range(1, 4):\n",
    "        if i-distance >= 0 and input[i] - input[i-distance] in [1, 2, 3]:\n",
    "            arc_data[input[i]].append(input[i-distance])\n",
    "\n",
    "\n",
    "path_counts = {0: 1}\n",
    "        \n",
    "for node in input[1:]:\n",
    "    path_counts[node] = sum({ key: path_counts[key] for key in arc_data[node] }.values())\n",
    "    \n",
    "print(list(path_counts.values())[-1])"
   ]
  }
 ],
 "metadata": {
  "kernelspec": {
   "display_name": "Python 3",
   "language": "python",
   "name": "python3"
  },
  "language_info": {
   "codemirror_mode": {
    "name": "ipython",
    "version": 3
   },
   "file_extension": ".py",
   "mimetype": "text/x-python",
   "name": "python",
   "nbconvert_exporter": "python",
   "pygments_lexer": "ipython3",
   "version": "3.7.6"
  }
 },
 "nbformat": 4,
 "nbformat_minor": 4
}
