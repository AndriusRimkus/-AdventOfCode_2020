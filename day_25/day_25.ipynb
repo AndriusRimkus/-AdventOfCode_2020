{
 "cells": [
  {
   "cell_type": "code",
   "execution_count": 16,
   "metadata": {},
   "outputs": [
    {
     "name": "stdout",
     "output_type": "stream",
     "text": [
      "6421487\n"
     ]
    }
   ],
   "source": [
    "card_pk = 12320657\n",
    "door_pk = 9659666\n",
    "\n",
    "def get_loop_size(key):\n",
    "    value = 1\n",
    "    loop_size = 0\n",
    "    \n",
    "    while value != key:\n",
    "        value = (value * 7) % 20201227\n",
    "        loop_size += 1\n",
    "        \n",
    "    return loop_size\n",
    "\n",
    "val = 1\n",
    "\n",
    "for i in range(0, get_loop_size(door_pk)):\n",
    "    val = (val * card_pk) % 20201227\n",
    "\n",
    "print(val)"
   ]
  }
 ],
 "metadata": {
  "kernelspec": {
   "display_name": "Python 3",
   "language": "python",
   "name": "python3"
  },
  "language_info": {
   "codemirror_mode": {
    "name": "ipython",
    "version": 3
   },
   "file_extension": ".py",
   "mimetype": "text/x-python",
   "name": "python",
   "nbconvert_exporter": "python",
   "pygments_lexer": "ipython3",
   "version": "3.7.6"
  }
 },
 "nbformat": 4,
 "nbformat_minor": 4
}
