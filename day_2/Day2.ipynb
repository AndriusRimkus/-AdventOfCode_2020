{
 "cells": [
  {
   "cell_type": "code",
   "execution_count": 1,
   "metadata": {},
   "outputs": [],
   "source": [
    "import re"
   ]
  },
  {
   "cell_type": "code",
   "execution_count": 2,
   "metadata": {},
   "outputs": [],
   "source": [
    "inputFile = open(\"input.txt\")\n",
    "input = [line.strip() for line in inputFile]\n",
    "inputFile.close()"
   ]
  },
  {
   "cell_type": "code",
   "execution_count": 3,
   "metadata": {},
   "outputs": [],
   "source": [
    "def get_record_parts(record):\n",
    "    # record example: 9-10 x: pxcbpxxwkqjttx\n",
    "    parts = re.search('(\\d+)-(\\d+)\\W(.):\\W(.*)', record)\n",
    "\n",
    "    return {\n",
    "        'indicatorA': int(parts.group(1)),\n",
    "        'indicatorB': int(parts.group(2)),\n",
    "        'char': parts.group(3),\n",
    "        'password': parts.group(4)\n",
    "    }\n",
    "    "
   ]
  },
  {
   "cell_type": "code",
   "execution_count": 4,
   "metadata": {},
   "outputs": [],
   "source": [
    "def part_one():\n",
    "    validCount = 0\n",
    "    \n",
    "    for record in input:\n",
    "        parts = get_record_parts(record)\n",
    "    \n",
    "        countToCheck = parts['password'].count(parts['char'])\n",
    "    \n",
    "        if parts['indicatorB'] >= countToCheck >= parts['indicatorA']:\n",
    "            validCount += 1\n",
    "    \n",
    "    return validCount\n"
   ]
  },
  {
   "cell_type": "code",
   "execution_count": 5,
   "metadata": {},
   "outputs": [],
   "source": [
    "def part_two():\n",
    "    validCount = 0\n",
    "    \n",
    "    for record in input:\n",
    "        parts = get_record_parts(record)\n",
    "        charToCheckA = parts['password'][parts['indicatorA']-1]\n",
    "        charToCheckB = parts['password'][parts['indicatorB']-1]\n",
    "    \n",
    "        if [charToCheckA, charToCheckB].count(parts['char']) == 1:\n",
    "            validCount += 1\n",
    "    \n",
    "    return validCount"
   ]
  },
  {
   "cell_type": "code",
   "execution_count": 6,
   "metadata": {},
   "outputs": [
    {
     "name": "stdout",
     "output_type": "stream",
     "text": [
      "398\n",
      "562\n"
     ]
    }
   ],
   "source": [
    "print(part_one())\n",
    "print(part_two())"
   ]
  }
 ],
 "metadata": {
  "kernelspec": {
   "display_name": "Python 3",
   "language": "python",
   "name": "python3"
  },
  "language_info": {
   "codemirror_mode": {
    "name": "ipython",
    "version": 3
   },
   "file_extension": ".py",
   "mimetype": "text/x-python",
   "name": "python",
   "nbconvert_exporter": "python",
   "pygments_lexer": "ipython3",
   "version": "3.7.6"
  }
 },
 "nbformat": 4,
 "nbformat_minor": 4
}
