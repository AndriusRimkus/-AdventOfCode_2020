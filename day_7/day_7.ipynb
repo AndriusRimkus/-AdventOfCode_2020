{
 "cells": [
  {
   "cell_type": "code",
   "execution_count": 1,
   "metadata": {},
   "outputs": [],
   "source": [
    "import re"
   ]
  },
  {
   "cell_type": "code",
   "execution_count": 28,
   "metadata": {},
   "outputs": [],
   "source": [
    "input_file = open(\"input.txt\")\n",
    "input = input_file.read().strip().split('\\n')\n",
    "input_file.close()"
   ]
  },
  {
   "cell_type": "code",
   "execution_count": 37,
   "metadata": {},
   "outputs": [
    {
     "name": "stdout",
     "output_type": "stream",
     "text": [
      "124\n",
      "34862\n"
     ]
    }
   ],
   "source": [
    "rule_map = {}\n",
    "\n",
    "for rule in input:\n",
    "    outer_bag = re.findall('(.*?)bag', rule)[0].strip()\n",
    "    \n",
    "    inner_bags = re.findall('(\\d+)(.*?)bag', rule)\n",
    "    inner_bags = list(map(lambda t: (int(t[0]), t[1].strip()), inner_bags))\n",
    "    \n",
    "    rule_map[outer_bag] = inner_bags\n",
    "    \n",
    "def can_contain_shiny_gold_bag(bag_name):    \n",
    "    if len(rule_map[bag_name]) == 0:\n",
    "        return False;\n",
    "    \n",
    "    inner_bag_names = [x[1] for x in rule_map[bag_name]]\n",
    "    \n",
    "    if 'shiny gold' in inner_bag_names:\n",
    "        return True;\n",
    "\n",
    "    return True in list(map(can_contain_shiny_gold_bag, inner_bag_names))\n",
    "\n",
    "# part 1\n",
    "print(len([a for a in list(rule_map.keys()) if can_contain_shiny_gold_bag(a)]))\n",
    "\n",
    "# part 2\n",
    "def inner_bag_count(bag_name):\n",
    "    bag_count = 0\n",
    "    \n",
    "    for count, inner_bag_name in rule_map[bag_name]:\n",
    "        bag_count += count + count * inner_bag_count(inner_bag_name)\n",
    "    \n",
    "    return bag_count\n",
    "    \n",
    "    \n",
    "print(inner_bag_count('shiny gold'))"
   ]
  }
 ],
 "metadata": {
  "kernelspec": {
   "display_name": "Python 3",
   "language": "python",
   "name": "python3"
  },
  "language_info": {
   "codemirror_mode": {
    "name": "ipython",
    "version": 3
   },
   "file_extension": ".py",
   "mimetype": "text/x-python",
   "name": "python",
   "nbconvert_exporter": "python",
   "pygments_lexer": "ipython3",
   "version": "3.7.6"
  }
 },
 "nbformat": 4,
 "nbformat_minor": 4
}
