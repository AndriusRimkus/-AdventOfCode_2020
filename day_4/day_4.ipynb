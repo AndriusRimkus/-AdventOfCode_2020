{
 "cells": [
  {
   "cell_type": "code",
   "execution_count": 5,
   "metadata": {},
   "outputs": [],
   "source": [
    "import re"
   ]
  },
  {
   "cell_type": "code",
   "execution_count": 133,
   "metadata": {},
   "outputs": [],
   "source": [
    "input_file = open(\"input.txt\")\n",
    "input = input_file.read().split('\\n\\n')\n",
    "input_file.close()\n",
    "\n",
    "# part 1\n",
    "\n",
    "# mandatory_fields = [\n",
    "#     'byr',\n",
    "#     'iyr',\n",
    "#     'eyr',\n",
    "#     'hgt',\n",
    "#     'hcl',\n",
    "#     'ecl',\n",
    "#     'pid'\n",
    "# ]\n",
    "\n",
    "# print(len([f for f in input if all(c in f for c in mandatory_fields)]))"
   ]
  },
  {
   "cell_type": "code",
   "execution_count": 179,
   "metadata": {},
   "outputs": [
    {
     "name": "stdout",
     "output_type": "stream",
     "text": [
      "167\n"
     ]
    }
   ],
   "source": [
    "def get_value(passport, key):\n",
    "    search_results = re.search(f'{key}:(.*?)(?:\\s|$)', passport)\n",
    "    \n",
    "    if search_results == None:\n",
    "        return None\n",
    "    \n",
    "    return search_results.group(0).split(':')[1].strip()\n",
    "\n",
    "def is_byr_valid(value):\n",
    "    parts = re.search('^(\\d+)$', value)\n",
    "    \n",
    "    if not parts:\n",
    "        return False\n",
    "    \n",
    "    return 2002 >= int(parts.group(0)) >= 1920\n",
    "\n",
    "def is_iyr_valid(value):\n",
    "    parts = re.search('^(\\d+)$', value)\n",
    "    \n",
    "    if not parts:\n",
    "        return False\n",
    "    \n",
    "    return 2020 >= int(parts.group(0)) >= 2010\n",
    "\n",
    "def is_eyr_valid(value):\n",
    "    parts = re.search('^(\\d+)$', value)\n",
    "    \n",
    "    if not parts:\n",
    "        return False\n",
    "    \n",
    "    return 2030 >= int(parts.group(0)) >= 2020\n",
    "\n",
    "def is_hgt_valid(value):\n",
    "    parts = re.search('^(\\d+)(cm|in)$', value)\n",
    "    \n",
    "    if not parts:\n",
    "        return False\n",
    "    \n",
    "    min_max = {\n",
    "        'cm': (150, 193),\n",
    "        'in': (59, 76)\n",
    "    }[parts.group(2)]\n",
    "    \n",
    "    return min_max[1] >= int(parts.group(1)) >= min_max[0]\n",
    "\n",
    "def is_hcl_valid(value):\n",
    "    return re.search('^#[0-9a-f]{6}$', value) is not None\n",
    "\n",
    "def is_ecl_valid(value):\n",
    "    return re.search('^amb|blu|brn|gry|grn|hzl|oth$', value) is not None\n",
    "\n",
    "def is_pid_valid(value):\n",
    "    return re.search('^[0-9]{9}$', value) is not None\n",
    "\n",
    "def is_passport_valid(passport):\n",
    "    validity_checks = {\n",
    "        'byr': is_byr_valid,\n",
    "        'iyr': is_iyr_valid,\n",
    "        'eyr': is_eyr_valid,\n",
    "        'hgt': is_hgt_valid,\n",
    "        'hcl': is_hcl_valid,\n",
    "        'ecl': is_ecl_valid,\n",
    "        'pid': is_pid_valid\n",
    "    }\n",
    "    \n",
    "    for key in validity_checks:\n",
    "        value = get_value(passport, key)\n",
    "        \n",
    "        if not value:\n",
    "            return False\n",
    "        \n",
    "        if not validity_checks[key](value):\n",
    "            return False\n",
    "    \n",
    "    return True\n",
    "\n",
    "answer = len([y for y in input if is_passport_valid(y)])\n",
    "print(answer)"
   ]
  }
 ],
 "metadata": {
  "kernelspec": {
   "display_name": "Python 3",
   "language": "python",
   "name": "python3"
  },
  "language_info": {
   "codemirror_mode": {
    "name": "ipython",
    "version": 3
   },
   "file_extension": ".py",
   "mimetype": "text/x-python",
   "name": "python",
   "nbconvert_exporter": "python",
   "pygments_lexer": "ipython3",
   "version": "3.7.6"
  }
 },
 "nbformat": 4,
 "nbformat_minor": 4
}
