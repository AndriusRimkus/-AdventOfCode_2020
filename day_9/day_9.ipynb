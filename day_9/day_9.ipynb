{
 "cells": [
  {
   "cell_type": "code",
   "execution_count": 15,
   "metadata": {},
   "outputs": [],
   "source": [
    "input_file = open(\"input.txt\")\n",
    "input = input_file.read().strip().split('\\n')\n",
    "input = list(map(int, input))\n",
    "input_file.close()"
   ]
  },
  {
   "cell_type": "code",
   "execution_count": 23,
   "metadata": {},
   "outputs": [
    {
     "name": "stdout",
     "output_type": "stream",
     "text": [
      "[614133, 671167, 649148, 621311, 763293, 630866, 998283, 697663, 638044, 878157, 742375, 940426, 1152264, 1041497, 943710, 1013677, 1148605]\n",
      "1766397\n"
     ]
    },
    {
     "ename": "Exception",
     "evalue": "found",
     "output_type": "error",
     "traceback": [
      "\u001b[1;31m---------------------------------------------------------------------------\u001b[0m",
      "\u001b[1;31mException\u001b[0m                                 Traceback (most recent call last)",
      "\u001b[1;32m<ipython-input-23-6e80404abfd1>\u001b[0m in \u001b[0;36m<module>\u001b[1;34m\u001b[0m\n\u001b[0;32m     29\u001b[0m             \u001b[0mprint\u001b[0m\u001b[1;33m(\u001b[0m\u001b[0mto_check\u001b[0m\u001b[1;33m)\u001b[0m\u001b[1;33m\u001b[0m\u001b[1;33m\u001b[0m\u001b[0m\n\u001b[0;32m     30\u001b[0m             \u001b[0mprint\u001b[0m\u001b[1;33m(\u001b[0m\u001b[0mmin\u001b[0m\u001b[1;33m(\u001b[0m\u001b[0mto_check\u001b[0m\u001b[1;33m)\u001b[0m \u001b[1;33m+\u001b[0m \u001b[0mmax\u001b[0m\u001b[1;33m(\u001b[0m\u001b[0mto_check\u001b[0m\u001b[1;33m)\u001b[0m\u001b[1;33m)\u001b[0m\u001b[1;33m\u001b[0m\u001b[1;33m\u001b[0m\u001b[0m\n\u001b[1;32m---> 31\u001b[1;33m             \u001b[1;32mraise\u001b[0m \u001b[0mException\u001b[0m\u001b[1;33m(\u001b[0m\u001b[1;34m'found'\u001b[0m\u001b[1;33m)\u001b[0m\u001b[1;33m\u001b[0m\u001b[1;33m\u001b[0m\u001b[0m\n\u001b[0m\u001b[0;32m     32\u001b[0m \u001b[1;33m\u001b[0m\u001b[0m\n\u001b[0;32m     33\u001b[0m     \u001b[0mspan\u001b[0m \u001b[1;33m+=\u001b[0m \u001b[1;36m1\u001b[0m\u001b[1;33m\u001b[0m\u001b[1;33m\u001b[0m\u001b[0m\n",
      "\u001b[1;31mException\u001b[0m: found"
     ]
    }
   ],
   "source": [
    "preamble = 25\n",
    "current_idx = preamble\n",
    "\n",
    "def is_valid(numbers, goal):\n",
    "    for number in numbers:\n",
    "        if goal-number != number and goal-number in numbers:\n",
    "            return True\n",
    "    \n",
    "    return False\n",
    "\n",
    "# part 1\n",
    "\n",
    "# while current_idx < len(input):\n",
    "#     to_check = input[current_idx-preamble:current_idx]\n",
    "    \n",
    "#     if (not is_valid(to_check, input[current_idx])):\n",
    "#         print(input[current_idx])\n",
    "#         break\n",
    "    \n",
    "#     current_idx += 1\n",
    "    \n",
    "goal = 14144619\n",
    "span = 1\n",
    "\n",
    "while True:\n",
    "    for i in range(0, len(input) - span):\n",
    "        to_check = input[i:i+span+1]\n",
    "        if sum(to_check) == goal:\n",
    "            print(to_check)\n",
    "            print(min(to_check) + max(to_check))\n",
    "            raise Exception('found')\n",
    "    \n",
    "    span += 1"
   ]
  }
 ],
 "metadata": {
  "kernelspec": {
   "display_name": "Python 3",
   "language": "python",
   "name": "python3"
  },
  "language_info": {
   "codemirror_mode": {
    "name": "ipython",
    "version": 3
   },
   "file_extension": ".py",
   "mimetype": "text/x-python",
   "name": "python",
   "nbconvert_exporter": "python",
   "pygments_lexer": "ipython3",
   "version": "3.7.6"
  }
 },
 "nbformat": 4,
 "nbformat_minor": 4
}
