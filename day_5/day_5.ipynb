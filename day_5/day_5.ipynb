{
 "cells": [
  {
   "cell_type": "code",
   "execution_count": 40,
   "metadata": {},
   "outputs": [],
   "source": [
    "input_file = open(\"input.txt\")\n",
    "input = input_file.read().strip().split('\\n')\n",
    "input_file.close()"
   ]
  },
  {
   "cell_type": "code",
   "execution_count": 39,
   "metadata": {},
   "outputs": [
    {
     "name": "stdout",
     "output_type": "stream",
     "text": [
      "625\n"
     ]
    }
   ],
   "source": [
    "letter_binary_map = {\n",
    "    'F': '0',\n",
    "    'B': '1',\n",
    "    'L': '0',\n",
    "    'R': '1'\n",
    "}\n",
    "\n",
    "seats_integer = [];\n",
    "\n",
    "for seat in input:\n",
    "    for i, j in letter_binary_map.items():\n",
    "        seat = seat.replace(i, j)\n",
    "    seats_integer.append(int(seat, 2))\n",
    "    \n",
    "# part 1\n",
    "print(max(seats_integer))\n",
    "\n",
    "# part 2\n",
    "print([y for y in seats_integer if y+1 not in seats_integer and y+2 in seats_integer][0]+1)"
   ]
  }
 ],
 "metadata": {
  "kernelspec": {
   "display_name": "Python 3",
   "language": "python",
   "name": "python3"
  },
  "language_info": {
   "codemirror_mode": {
    "name": "ipython",
    "version": 3
   },
   "file_extension": ".py",
   "mimetype": "text/x-python",
   "name": "python",
   "nbconvert_exporter": "python",
   "pygments_lexer": "ipython3",
   "version": "3.7.6"
  }
 },
 "nbformat": 4,
 "nbformat_minor": 4
}
