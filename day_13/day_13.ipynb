{
 "cells": [
  {
   "cell_type": "code",
   "execution_count": null,
   "metadata": {},
   "outputs": [],
   "source": []
  },
  {
   "cell_type": "code",
   "execution_count": 8,
   "metadata": {
    "scrolled": true
   },
   "outputs": [
    {
     "name": "stdout",
     "output_type": "stream",
     "text": [
      "526090562196173\n"
     ]
    }
   ],
   "source": [
    "import re\n",
    "import time\n",
    "import numpy as np\n",
    "\n",
    "input_file = open(\"input.txt\")\n",
    "input = input_file.read().strip().split('\\n')\n",
    "input_file.close()\n",
    "\n",
    "# part 1\n",
    "\n",
    "# earliest_depart = int(input[0])\n",
    "# bus_ids = [int(x) for x in re.findall('(\\d+)', input[1])]\n",
    "\n",
    "# times_to_wait = [bus_id - earliest_depart % bus_id for bus_id in bus_ids]\n",
    "# min_time_to_wait = min(times_to_wait)\n",
    "# earliest_bus_id = bus_ids[times_to_wait.index(min_time_to_wait)]\n",
    "\n",
    "#part 2\n",
    "\n",
    "input = input[1].split(',')\n",
    "\n",
    "inputWithOffsets = []\n",
    "\n",
    "for i in range(0, len(input)):\n",
    "    if input[i] == 'x':\n",
    "        continue\n",
    "    \n",
    "    inputWithOffsets.append([int(input[i]), i])\n",
    "\n",
    "def gcd(a, b):\n",
    "    if min(a, b) == 0:\n",
    "        return max(a, b)\n",
    "    a_1 = max(a, b) % min(a, b)\n",
    "    return gcd(a_1, min(a, b))\n",
    "\n",
    "def lcm(a, b):\n",
    "    return (a * b) // gcd(a, b)\n",
    "\n",
    "def get_sync_point(a, a_offset, b, b_offset):\n",
    "    step = 0\n",
    "    \n",
    "    while True:\n",
    "        if (a * step + a_offset) % b == b_offset:\n",
    "            return (lcm(a, b), a * step + a_offset)\n",
    "\n",
    "        step += 1\n",
    "\n",
    "def get_sync_point_init(a, a_offset, b, b_offset):\n",
    "    step = 0\n",
    "    b_offset = b_offset % b\n",
    "    \n",
    "    while True:\n",
    "        if (a * step + a_offset) % b == (b - b_offset):\n",
    "            return (lcm(a, b), a * step + a_offset)\n",
    "        \n",
    "        step += 1\n",
    "        \n",
    "        \n",
    "newStuff = []\n",
    "\n",
    "for item in inputWithOffsets[1:]:\n",
    "    newStuff.append(get_sync_point_init(inputWithOffsets[0][0], inputWithOffsets[0][1], item[0], item[1]))\n",
    "\n",
    "inputWithOffsets = newStuff  \n",
    "    \n",
    "while len(inputWithOffsets) > 1:            \n",
    "    newStuff = []\n",
    "\n",
    "    for item in inputWithOffsets[1:]:\n",
    "        newStuff.append(get_sync_point(inputWithOffsets[0][0], inputWithOffsets[0][1], item[0], item[1]))\n",
    "    \n",
    "    inputWithOffsets = newStuff\n",
    "\n",
    "print(inputWithOffsets[0][1])"
   ]
  }
 ],
 "metadata": {
  "kernelspec": {
   "display_name": "Python 3",
   "language": "python",
   "name": "python3"
  },
  "language_info": {
   "codemirror_mode": {
    "name": "ipython",
    "version": 3
   },
   "file_extension": ".py",
   "mimetype": "text/x-python",
   "name": "python",
   "nbconvert_exporter": "python",
   "pygments_lexer": "ipython3",
   "version": "3.7.6"
  }
 },
 "nbformat": 4,
 "nbformat_minor": 4
}
