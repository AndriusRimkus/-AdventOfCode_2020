{
 "cells": [
  {
   "cell_type": "code",
   "execution_count": 56,
   "metadata": {},
   "outputs": [],
   "source": [
    "import re\n",
    "import functools\n",
    "import numpy as np"
   ]
  },
  {
   "cell_type": "code",
   "execution_count": 27,
   "metadata": {},
   "outputs": [],
   "source": [
    "input_file = open(\"input.txt\")\n",
    "input = input_file.read().strip().split('\\n\\n')\n",
    "input_file.close()"
   ]
  },
  {
   "cell_type": "code",
   "execution_count": 78,
   "metadata": {},
   "outputs": [
    {
     "name": "stdout",
     "output_type": "stream",
     "text": [
      "6911\n",
      "3473\n"
     ]
    }
   ],
   "source": [
    "# part 1\n",
    "print(functools.reduce(lambda a, b : a + len(set(''.join(re.findall('\\S+', b)))), input, 0))\n",
    "\n",
    "#part 2\n",
    "sum = 0\n",
    "\n",
    "for group in input:\n",
    "    sum += len(functools.reduce(np.intersect1d, list(map(list, group.split('\\n')))))\n",
    "\n",
    "print(sum)"
   ]
  }
 ],
 "metadata": {
  "kernelspec": {
   "display_name": "Python 3",
   "language": "python",
   "name": "python3"
  },
  "language_info": {
   "codemirror_mode": {
    "name": "ipython",
    "version": 3
   },
   "file_extension": ".py",
   "mimetype": "text/x-python",
   "name": "python",
   "nbconvert_exporter": "python",
   "pygments_lexer": "ipython3",
   "version": "3.7.6"
  }
 },
 "nbformat": 4,
 "nbformat_minor": 4
}
